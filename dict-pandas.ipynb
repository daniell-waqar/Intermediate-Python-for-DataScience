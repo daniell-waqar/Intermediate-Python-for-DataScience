{
  "metadata": {
    "language_info": {
      "codemirror_mode": {
        "name": "python",
        "version": 3
      },
      "file_extension": ".py",
      "mimetype": "text/x-python",
      "name": "python",
      "nbconvert_exporter": "python",
      "pygments_lexer": "ipython3",
      "version": "3.8"
    },
    "kernelspec": {
      "name": "python",
      "display_name": "Python (Pyodide)",
      "language": "python"
    }
  },
  "nbformat_minor": 4,
  "nbformat": 4,
  "cells": [
    {
      "cell_type": "markdown",
      "source": "Why dictionary?",
      "metadata": {}
    },
    {
      "cell_type": "code",
      "source": "# Definition of countries and capital\ncountries = ['spain', 'france', 'germany', 'norway']\ncapitals = ['madrid', 'paris', 'berlin', 'oslo']\n      \n# Get index of 'germany': ind_ger\n\nindex_ger = countries.index('germany')\n# Use ind_ger to print out capital of Germany\ncapitals[index_ger]      # Inconvenient method that's why we use dictionary ",
      "metadata": {
        "trusted": true
      },
      "execution_count": 4,
      "outputs": [
        {
          "execution_count": 4,
          "output_type": "execute_result",
          "data": {
            "text/plain": "'berlin'"
          },
          "metadata": {}
        }
      ]
    },
    {
      "cell_type": "markdown",
      "source": "Create dictionary",
      "metadata": {}
    },
    {
      "cell_type": "code",
      "source": "# Definition of countries and capital\ncountries = ['spain', 'france', 'germany', 'norway']\ncapitals = ['madrid', 'paris', 'berlin', 'oslo']\n\n# From string in countries and capitals, create dictionary europe\neurope = {'spain':'madrid', 'france':'paris', 'germany':'berlin', 'norway':'oslo'}\n\n# Print europe\n\nprint(europe)\n",
      "metadata": {
        "trusted": true
      },
      "execution_count": 5,
      "outputs": [
        {
          "name": "stdout",
          "text": "{'spain': 'madrid', 'france': 'paris', 'germany': 'berlin', 'norway': 'oslo'}\n",
          "output_type": "stream"
        }
      ]
    },
    {
      "cell_type": "markdown",
      "source": "Access dictionary",
      "metadata": {}
    },
    {
      "cell_type": "code",
      "source": "# Definition of dictionary\neurope = {'spain':'madrid', 'france':'paris', 'germany':'berlin', 'norway':'oslo' }\n\n# Print out the keys in europe\n\nprint(europe.keys())\n\n# Print out value that belongs to key 'norway'\n\nprint(europe['norway'])",
      "metadata": {
        "trusted": true
      },
      "execution_count": 6,
      "outputs": [
        {
          "name": "stdout",
          "text": "dict_keys(['spain', 'france', 'germany', 'norway'])\noslo\n",
          "output_type": "stream"
        }
      ]
    },
    {
      "cell_type": "markdown",
      "source": "Dictionary Manipulation",
      "metadata": {}
    },
    {
      "cell_type": "code",
      "source": "# Definition of dictionary\neurope = {'spain':'madrid', 'france':'paris', 'germany':'berlin', 'norway':'oslo' }\n\n# Add italy to europe\n\neurope['italy'] = 'rome'\n\n# Print out italy in europe\nprint('italy' in europe)\n\nprint(europe['italy'])\n\n\n# Add poland to europe\n\neurope['poland'] = 'warsaw'\n\n\n# Print europe\nprint(europe)\n\n",
      "metadata": {
        "trusted": true
      },
      "execution_count": 8,
      "outputs": [
        {
          "name": "stdout",
          "text": "True\nrome\n{'spain': 'madrid', 'france': 'paris', 'germany': 'berlin', 'norway': 'oslo', 'italy': 'rome', 'poland': 'warsaw'}\n",
          "output_type": "stream"
        }
      ]
    },
    {
      "cell_type": "code",
      "source": "# Definition of dictionary\neurope = {'spain':'madrid', 'france':'paris', 'germany':'bonn',\n          'norway':'oslo', 'italy':'rome', 'poland':'warsaw',\n          'australia':'vienna' }\n\n# Update capital of germany\n\neurope['germany'] = 'berlin'\n# Remove australia\ndel(europe['australia'])\n\n# Print europe\n\nprint(europe)\n",
      "metadata": {
        "trusted": true
      },
      "execution_count": 10,
      "outputs": [
        {
          "name": "stdout",
          "text": "{'spain': 'madrid', 'france': 'paris', 'germany': 'berlin', 'norway': 'oslo', 'italy': 'rome', 'poland': 'warsaw'}\n",
          "output_type": "stream"
        }
      ]
    },
    {
      "cell_type": "markdown",
      "source": "Dictionariception:\nRemember lists? They could contain anything, even other lists. Well, for dictionaries the same holds. Dictionaries can contain key:value pairs where the values are again dictionaries.",
      "metadata": {}
    },
    {
      "cell_type": "code",
      "source": "# Dictionary of dictionaries\neurope = { 'spain': { 'capital':'madrid', 'population':46.77 },\n           'france': { 'capital':'paris', 'population':66.03 },\n           'germany': { 'capital':'berlin', 'population':80.62 },\n           'norway': { 'capital':'oslo', 'population':5.084 } }\n\n\n# Print out the capital of France\n\nprint(europe['france']['capital'])\n\n# Create sub-dictionary data\ndata = {'capital':'rome' , 'population':'59.83'}\n\n\n\n# Add data to europe under key 'italy'\n\neurope['italy'] = data\n# Print europe\n\nprint(europe)",
      "metadata": {
        "trusted": true
      },
      "execution_count": 1,
      "outputs": [
        {
          "name": "stdout",
          "text": "paris\n{'spain': {'capital': 'madrid', 'population': 46.77}, 'france': {'capital': 'paris', 'population': 66.03}, 'germany': {'capital': 'berlin', 'population': 80.62}, 'norway': {'capital': 'oslo', 'population': 5.084}, 'italy': {'capital': 'rome', 'population': '59.83'}}\n",
          "output_type": "stream"
        }
      ]
    },
    {
      "cell_type": "markdown",
      "source": "Dictionary to Pandas DataFrame",
      "metadata": {}
    },
    {
      "cell_type": "markdown",
      "source": "Pandas is an open source library, providing high-performance, easy-to-use data structures and data analysis tools for Python.\n\nThe DataFrame is one of Pandas' most important data structures. It's basically a way to store tabular data where you can label the rows and the columns. One way to build a DataFrame is from a dictionary.",
      "metadata": {}
    },
    {
      "cell_type": "code",
      "source": "# Pre-defined lists\nnames = ['United States', 'Australia', 'Japan', 'India', 'Russia', 'Morocco', 'Egypt'] # names, containing the country names for which data is available\ndr =  [True, False, False, False, True, True, True]  # dr, a list with booleans that tells whether people drive left or right in the corresponding country.\n\ncpc = [809, 731, 588, 18, 200, 70, 45]  # cpc, the number of motor vehicles per 1000 people in the corresponding country.  \n\n# Import pandas as pd\nimport pandas as pd\n# Create dictionary my_dict with three key:value pairs: my_dict\nmy_dict = {'country':names, 'drives_right':dr, 'cars_per_cap': cpc}\n\n\n# Build a DataFrame cars from my_dict: cars\n\ncars = pd.DataFrame(my_dict)\n\n# Print cars\nprint(cars)",
      "metadata": {
        "trusted": true
      },
      "execution_count": 2,
      "outputs": [
        {
          "name": "stdout",
          "text": "         country  drives_right  cars_per_cap\n0  United States          True           809\n1      Australia         False           731\n2          Japan         False           588\n3          India         False            18\n4         Russia          True           200\n5        Morocco          True            70\n6          Egypt          True            45\n",
          "output_type": "stream"
        }
      ]
    },
    {
      "cell_type": "code",
      "source": " #noticed that the row labels (i.e. the labels for the different observations) were automatically \n    #set to integers from 0 up to 6 let's solve this\n    \nimport pandas as pd\n\n# Build cars DataFrame\nnames = ['United States', 'Australia', 'Japan', 'India', 'Russia', 'Morocco', 'Egypt']\ndr =  [True, False, False, False, True, True, True]\ncpc = [809, 731, 588, 18, 200, 70, 45]\ncars_dict = { 'country':names, 'drives_right':dr, 'cars_per_cap':cpc }\ncars = pd.DataFrame(cars_dict)\nprint(cars)\n\nprint('==================================================')\n# Definition of row_labels\nrow_labels = ['US', 'AUS', 'JPN', 'IN', 'RU', 'MOR', 'EG']\n\n# Specify row labels of cars\n\ncars.index = row_labels\n\nprint(cars)\n\n\n\n    ",
      "metadata": {
        "trusted": true
      },
      "execution_count": 3,
      "outputs": [
        {
          "name": "stdout",
          "text": "         country  drives_right  cars_per_cap\n0  United States          True           809\n1      Australia         False           731\n2          Japan         False           588\n3          India         False            18\n4         Russia          True           200\n5        Morocco          True            70\n6          Egypt          True            45\n==================================================\n           country  drives_right  cars_per_cap\nUS   United States          True           809\nAUS      Australia         False           731\nJPN          Japan         False           588\nIN           India         False            18\nRU          Russia          True           200\nMOR        Morocco          True            70\nEG           Egypt          True            45\n",
          "output_type": "stream"
        }
      ]
    },
    {
      "cell_type": "markdown",
      "source": "Putting data in a dictionary and then building a DataFrame works, but it's not very efficient. What if you're dealing with millions of observations? so in those cases we use files one of them is CSV",
      "metadata": {}
    },
    {
      "cell_type": "code",
      "source": "# Import pandas as pd\n\nimport pandas as pd\n\n# Import the cars.csv data: cars\n\ncars = pd.read_csv('cars.csv')\n\n# Print out cars\n\nprint(cars)",
      "metadata": {
        "trusted": true
      },
      "execution_count": 4,
      "outputs": [
        {
          "name": "stdout",
          "text": "  Unnamed: 0  cars_per_cap        country  drives_right\n0         US           809  United States          True\n1        AUS           731      Australia         False\n2        JAP           588          Japan         False\n3         IN            18          India         False\n4         RU           200         Russia          True\n5        MOR            70        Morocco          True\n6         EG            45          Egypt          True\n",
          "output_type": "stream"
        }
      ]
    },
    {
      "cell_type": "code",
      "source": "# The row labels were imported as another column without a name.\n# index_col, an argument of read_csv(), that you can use to specify which column in the CSV file'\n# should be used as a row label\n\n# Import pandas as pd\nimport pandas as pd\n\n# Fix import by including index_col\ncars = pd.read_csv('cars.csv' , index_col=0)\n\n# Print out cars\nprint(cars)\n\n",
      "metadata": {
        "trusted": true
      },
      "execution_count": 5,
      "outputs": [
        {
          "name": "stdout",
          "text": "     cars_per_cap        country  drives_right\nUS            809  United States          True\nAUS           731      Australia         False\nJAP           588          Japan         False\nIN             18          India         False\nRU            200         Russia          True\nMOR            70        Morocco          True\nEG             45          Egypt          True\n",
          "output_type": "stream"
        }
      ]
    },
    {
      "cell_type": "code",
      "source": "# You can index and select Pandas DataFrames in many different ways. \n#The simplest, but not the most powerful way, is to use square brackets.\n\n# Import cars data\nimport pandas as pd\ncars = pd.read_csv('cars.csv', index_col = 0)\n\n# Print out country column as Pandas Series\n\nprint(cars['country'])\n\nprint('---------------------------------------')\n# Print out country column as Pandas DataFrame\n\nprint(cars[['country']])\nprint('---------------------------------------')\n\n# Print out DataFrame with country and drives_right columns\n\nprint(cars[['country', 'drives_right']])\n\n",
      "metadata": {
        "trusted": true
      },
      "execution_count": 6,
      "outputs": [
        {
          "name": "stdout",
          "text": "US     United States\nAUS        Australia\nJAP            Japan\nIN             India\nRU            Russia\nMOR          Morocco\nEG             Egypt\nName: country, dtype: object\n---------------------------------------\n           country\nUS   United States\nAUS      Australia\nJAP          Japan\nIN           India\nRU          Russia\nMOR        Morocco\nEG           Egypt\n---------------------------------------\n           country  drives_right\nUS   United States          True\nAUS      Australia         False\nJAP          Japan         False\nIN           India         False\nRU          Russia          True\nMOR        Morocco          True\nEG           Egypt          True\n",
          "output_type": "stream"
        }
      ]
    },
    {
      "cell_type": "code",
      "source": "# You can also use square brackets to get rows, or observations, from a DataFrame.\n# Import cars data\nimport pandas as pd\ncars = pd.read_csv('cars.csv', index_col = 0)\n\n# Print out first 3 observations\n\nprint(cars[0:3])\n\nprint('----------------------------------------------')\n\n# Print out fourth, fifth and sixth observation\n\nprint(cars[3:6])\n",
      "metadata": {
        "trusted": true
      },
      "execution_count": 7,
      "outputs": [
        {
          "name": "stdout",
          "text": "     cars_per_cap        country  drives_right\nUS            809  United States          True\nAUS           731      Australia         False\nJAP           588          Japan         False\n----------------------------------------------\n     cars_per_cap  country  drives_right\nIN             18    India         False\nRU            200   Russia          True\nMOR            70  Morocco          True\n",
          "output_type": "stream"
        }
      ]
    },
    {
      "cell_type": "markdown",
      "source": "loc and iloc: With loc and iloc you can do practically any data selection operation on DataFrames you can think of. loc is label-based, which means that you have to specify rows and columns based on their row and column labels. iloc is integer index based, so you have to specify rows and columns by their integer index",
      "metadata": {}
    },
    {
      "cell_type": "code",
      "source": "# Import cars data\nimport pandas as pd\ncars = pd.read_csv('cars.csv', index_col = 0)\n\n# Print out observation for Japan as a series\n\nprint(cars.loc['JAP'])\nprint(cars.iloc[2])\nprint('----------------------------------------------')\n\n# Print out observations for Australia and Egypt\nprint(cars.loc[['AUS', 'EG']])\nprint(cars.iloc[[1,6]])\n",
      "metadata": {
        "trusted": true
      },
      "execution_count": 21,
      "outputs": [
        {
          "name": "stdout",
          "text": "cars_per_cap      588\ncountry         Japan\ndrives_right    False\nName: JAP, dtype: object\ncars_per_cap      588\ncountry         Japan\ndrives_right    False\nName: JAP, dtype: object\n----------------------------------------------\n     cars_per_cap    country  drives_right\nAUS           731  Australia         False\nEG             45      Egypt          True\n     cars_per_cap    country  drives_right\nAUS           731  Australia         False\nEG             45      Egypt          True\n",
          "output_type": "stream"
        }
      ]
    },
    {
      "cell_type": "code",
      "source": "# loc and iloc also allow you to select both rows and columns from a DataFrame.\n\n# Import cars data\nimport pandas as pd\ncars = pd.read_csv('cars.csv', index_col = 0)\n\n# Print out drives_right value of Morocco\n\nprint(cars.loc['MOR', 'drives_right'])\n# Print sub-DataFrame\n\nprint(cars.loc[['MOR', 'RU'] , ['country', 'drives_right']])\n\nprint(cars.iloc[[4,5] , [1,2]])\n",
      "metadata": {
        "trusted": true
      },
      "execution_count": 28,
      "outputs": [
        {
          "name": "stdout",
          "text": "True\n     country  drives_right\nMOR  Morocco          True\nRU    Russia          True\n     country  drives_right\nRU    Russia          True\nMOR  Morocco          True\n",
          "output_type": "stream"
        }
      ]
    },
    {
      "cell_type": "code",
      "source": "cars.loc[['IN', 'RU'], 'cars_per_cap']\ncars.iloc[[3, 4], 0]",
      "metadata": {
        "trusted": true
      },
      "execution_count": 30,
      "outputs": [
        {
          "execution_count": 30,
          "output_type": "execute_result",
          "data": {
            "text/plain": "IN     18\nRU    200\nName: cars_per_cap, dtype: int64"
          },
          "metadata": {}
        }
      ]
    },
    {
      "cell_type": "markdown",
      "source": "It's also possible to select only columns with loc and iloc. In both cases, you simply put a slice going from beginning to end in front of the comma:",
      "metadata": {}
    },
    {
      "cell_type": "code",
      "source": "# Import cars data\nimport pandas as pd\ncars = pd.read_csv('cars.csv', index_col = 0)\n\n# Print out drives_right column as Series\n\nprint(cars.loc[:, 'drives_right'])\nprint(cars.iloc[:, 2])\n# Print out drives_right column as DataFrame\n\n\nprint(cars.loc[:, ['drives_right']])\nprint(cars.iloc[:, [2]])\n\n# Print out cars_per_cap and drives_right as DataFrame\nprint(cars.loc[:, ['cars_per_cap' , 'drives_right']])\nprint(cars.iloc[:, [0,2]])\n",
      "metadata": {
        "trusted": true
      },
      "execution_count": 32,
      "outputs": [
        {
          "name": "stdout",
          "text": "US      True\nAUS    False\nJAP    False\nIN     False\nRU      True\nMOR     True\nEG      True\nName: drives_right, dtype: bool\nUS      True\nAUS    False\nJAP    False\nIN     False\nRU      True\nMOR     True\nEG      True\nName: drives_right, dtype: bool\n     drives_right\nUS           True\nAUS         False\nJAP         False\nIN          False\nRU           True\nMOR          True\nEG           True\n     drives_right\nUS           True\nAUS         False\nJAP         False\nIN          False\nRU           True\nMOR          True\nEG           True\n     cars_per_cap  drives_right\nUS            809          True\nAUS           731         False\nJAP           588         False\nIN             18         False\nRU            200          True\nMOR            70          True\nEG             45          True\n     cars_per_cap  drives_right\nUS            809          True\nAUS           731         False\nJAP           588         False\nIN             18         False\nRU            200          True\nMOR            70          True\nEG             45          True\n",
          "output_type": "stream"
        }
      ]
    },
    {
      "cell_type": "markdown",
      "source": "Comparison Operators",
      "metadata": {}
    },
    {
      "cell_type": "code",
      "source": "# Comparison of booleans\nTrue == False\n\n# Comparison of integers\n\n-5 * 15 != 75\n# Comparison of strings\n\n\"pyscript\" == \"PyScript\"\n\n# Compare a boolean with an integer\n\n\nTrue == 1",
      "metadata": {
        "trusted": true
      },
      "execution_count": 37,
      "outputs": [
        {
          "execution_count": 37,
          "output_type": "execute_result",
          "data": {
            "text/plain": "True"
          },
          "metadata": {}
        }
      ]
    },
    {
      "cell_type": "code",
      "source": "# Comparison of integers\nx = -3 * 6\n\nprint(x >= -10)\n\n# Comparison of strings\ny = \"test\"\n\nprint( \"test\"<= y)\n\n# Comparison of booleans\n\nprint(True > False)",
      "metadata": {
        "trusted": true
      },
      "execution_count": 39,
      "outputs": [
        {
          "name": "stdout",
          "text": "False\nTrue\nTrue\n",
          "output_type": "stream"
        }
      ]
    },
    {
      "cell_type": "code",
      "source": "# Create arrays\nimport numpy as np\nmy_house = np.array([18.0, 20.0, 10.75, 9.50])\nyour_house = np.array([14.0, 24.0, 14.25, 9.0])\n\n# my_house greater than or equal to 18\n\nprint(my_house > 18)\n# my_house less than your_house\nprint(my_house < your_house)\n",
      "metadata": {
        "trusted": true
      },
      "execution_count": 40,
      "outputs": [
        {
          "name": "stdout",
          "text": "[False  True False False]\n[False  True  True False]\n",
          "output_type": "stream"
        }
      ]
    },
    {
      "cell_type": "code",
      "source": "# Define variables\nmy_kitchen = 18.0\nyour_kitchen = 14.0\n\n# my_kitchen bigger than 10 and smaller than 18?\n\nprint(my_kitchen > 10 and my_kitchen < 18)\n\n# my_kitchen smaller than 14 or bigger than 17?\n\nprint(my_kitchen < 14 or  my_kitchen > 17)\n\n\n# Double my_kitchen smaller than triple your_kitchen?\n\nprint(my_kitchen *2 < your_kitchen*3)",
      "metadata": {
        "trusted": true
      },
      "execution_count": 41,
      "outputs": [
        {
          "name": "stdout",
          "text": "False\nTrue\nTrue\n",
          "output_type": "stream"
        }
      ]
    },
    {
      "cell_type": "code",
      "source": "# Create arrays\nimport numpy as np\nmy_house = np.array([18.0, 20.0, 10.75, 9.50])\nyour_house = np.array([14.0, 24.0, 14.25, 9.0])\n\n# my_house greater than 18.5 or smaller than 10\n\nprint(np.logical_or(my_house > 18.5 , my_house < 10))\n\n# Both my_house and your_house smaller than 11\n\nprint(np.logical_and(my_house < 11 , your_house < 11))",
      "metadata": {
        "trusted": true
      },
      "execution_count": 42,
      "outputs": [
        {
          "name": "stdout",
          "text": "[False  True False  True]\n[False False False  True]\n",
          "output_type": "stream"
        }
      ]
    },
    {
      "cell_type": "markdown",
      "source": "Conditional Statements",
      "metadata": {}
    },
    {
      "cell_type": "code",
      "source": "# Define variables\nroom = \"kit\"\narea = 14.0\n\n# if-else construct for room\nif room == \"kit\" :\n    print(\"looking around in the kitchen.\")\nelse :\n    print(\"looking around elsewhere.\")\n\n# if-else construct for area\nif area > 15 :\n    print(\"big place!\")\nelse :\n    print(\"pretty small.\")",
      "metadata": {
        "trusted": true
      },
      "execution_count": 3,
      "outputs": [
        {
          "name": "stdout",
          "text": "looking around in the kitchen.\npretty small.\n",
          "output_type": "stream"
        }
      ]
    },
    {
      "cell_type": "code",
      "source": "# Define variables\nroom = \"bed\"\narea = 14.0\n\n# if-elif-else construct for room\nif room == \"kit\" :\n    print(\"looking around in the kitchen.\")\nelif room == \"bed\":\n    print(\"looking around in the bedroom.\")\nelse :\n    print(\"looking around elsewhere.\")\n\n# if-elif-else construct for area\nif area > 15 :\n    print(\"big place!\")\nelif area > 10:\n    print(\"medium size, nice!\")\nelse :\n    print(\"pretty small.\")",
      "metadata": {
        "trusted": true
      },
      "execution_count": 5,
      "outputs": [
        {
          "name": "stdout",
          "text": "looking around in the bedroom.\nmedium size, nice!\n",
          "output_type": "stream"
        }
      ]
    },
    {
      "cell_type": "code",
      "source": "",
      "metadata": {},
      "execution_count": null,
      "outputs": []
    }
  ]
}